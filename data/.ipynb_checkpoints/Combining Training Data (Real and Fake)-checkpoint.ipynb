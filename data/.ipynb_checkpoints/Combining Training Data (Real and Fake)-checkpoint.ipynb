{
 "cells": [
  {
   "cell_type": "markdown",
   "metadata": {},
   "source": [
    "# Combine the Datasets"
   ]
  },
  {
   "cell_type": "code",
   "execution_count": 59,
   "metadata": {
    "collapsed": true
   },
   "outputs": [],
   "source": [
    "import pandas as pd\n",
    "\n",
    "fake = pd.DataFrame.from_csv('./fake.csv',index_col=None)\n",
    "real = pd.DataFrame.from_csv('real_news_data.csv')\n",
    "real = real.iloc[:,:real.shape[1]-2]"
   ]
  },
  {
   "cell_type": "code",
   "execution_count": 60,
   "metadata": {
    "collapsed": false
   },
   "outputs": [
    {
     "data": {
      "text/html": [
       "<div>\n",
       "<style>\n",
       "    .dataframe thead tr:only-child th {\n",
       "        text-align: right;\n",
       "    }\n",
       "\n",
       "    .dataframe thead th {\n",
       "        text-align: left;\n",
       "    }\n",
       "\n",
       "    .dataframe tbody tr th {\n",
       "        vertical-align: top;\n",
       "    }\n",
       "</style>\n",
       "<table border=\"1\" class=\"dataframe\">\n",
       "  <thead>\n",
       "    <tr style=\"text-align: right;\">\n",
       "      <th></th>\n",
       "      <th>text</th>\n",
       "      <th>title</th>\n",
       "      <th>website</th>\n",
       "      <th>authors</th>\n",
       "      <th>image_url</th>\n",
       "      <th>published_date</th>\n",
       "    </tr>\n",
       "  </thead>\n",
       "  <tbody>\n",
       "    <tr>\n",
       "      <th>0</th>\n",
       "      <td>Print They should pay all the back all the mon...</td>\n",
       "      <td>Muslims BUSTED: They Stole Millions In Gov’t B...</td>\n",
       "      <td>100percentfedup.com</td>\n",
       "      <td>Barracuda Brigade</td>\n",
       "      <td>http://bb4sp.com/wp-content/uploads/2016/10/Fu...</td>\n",
       "      <td>2016-10-26T21:41:00.000+03:00</td>\n",
       "    </tr>\n",
       "    <tr>\n",
       "      <th>1</th>\n",
       "      <td>Why Did Attorney General Loretta Lynch Plead T...</td>\n",
       "      <td>Re: Why Did Attorney General Loretta Lynch Ple...</td>\n",
       "      <td>100percentfedup.com</td>\n",
       "      <td>reasoning with facts</td>\n",
       "      <td>http://bb4sp.com/wp-content/uploads/2016/10/Fu...</td>\n",
       "      <td>2016-10-29T08:47:11.259+03:00</td>\n",
       "    </tr>\n",
       "    <tr>\n",
       "      <th>2</th>\n",
       "      <td>Red State : \\nFox News Sunday reported this mo...</td>\n",
       "      <td>BREAKING: Weiner Cooperating With FBI On Hilla...</td>\n",
       "      <td>100percentfedup.com</td>\n",
       "      <td>Barracuda Brigade</td>\n",
       "      <td>http://bb4sp.com/wp-content/uploads/2016/10/Fu...</td>\n",
       "      <td>2016-10-31T01:41:49.479+02:00</td>\n",
       "    </tr>\n",
       "    <tr>\n",
       "      <th>3</th>\n",
       "      <td>Email Kayla Mueller was a prisoner and torture...</td>\n",
       "      <td>PIN DROP SPEECH BY FATHER OF DAUGHTER Kidnappe...</td>\n",
       "      <td>100percentfedup.com</td>\n",
       "      <td>Fed Up</td>\n",
       "      <td>http://100percentfedup.com/wp-content/uploads/...</td>\n",
       "      <td>2016-11-01T05:22:00.000+02:00</td>\n",
       "    </tr>\n",
       "    <tr>\n",
       "      <th>4</th>\n",
       "      <td>Email HEALTHCARE REFORM TO MAKE AMERICA GREAT ...</td>\n",
       "      <td>FANTASTIC! TRUMP'S 7 POINT PLAN To Reform Heal...</td>\n",
       "      <td>100percentfedup.com</td>\n",
       "      <td>Fed Up</td>\n",
       "      <td>http://100percentfedup.com/wp-content/uploads/...</td>\n",
       "      <td>2016-11-01T21:56:00.000+02:00</td>\n",
       "    </tr>\n",
       "  </tbody>\n",
       "</table>\n",
       "</div>"
      ],
      "text/plain": [
       "                                                text  \\\n",
       "0  Print They should pay all the back all the mon...   \n",
       "1  Why Did Attorney General Loretta Lynch Plead T...   \n",
       "2  Red State : \\nFox News Sunday reported this mo...   \n",
       "3  Email Kayla Mueller was a prisoner and torture...   \n",
       "4  Email HEALTHCARE REFORM TO MAKE AMERICA GREAT ...   \n",
       "\n",
       "                                               title              website  \\\n",
       "0  Muslims BUSTED: They Stole Millions In Gov’t B...  100percentfedup.com   \n",
       "1  Re: Why Did Attorney General Loretta Lynch Ple...  100percentfedup.com   \n",
       "2  BREAKING: Weiner Cooperating With FBI On Hilla...  100percentfedup.com   \n",
       "3  PIN DROP SPEECH BY FATHER OF DAUGHTER Kidnappe...  100percentfedup.com   \n",
       "4  FANTASTIC! TRUMP'S 7 POINT PLAN To Reform Heal...  100percentfedup.com   \n",
       "\n",
       "                authors                                          image_url  \\\n",
       "0     Barracuda Brigade  http://bb4sp.com/wp-content/uploads/2016/10/Fu...   \n",
       "1  reasoning with facts  http://bb4sp.com/wp-content/uploads/2016/10/Fu...   \n",
       "2     Barracuda Brigade  http://bb4sp.com/wp-content/uploads/2016/10/Fu...   \n",
       "3                Fed Up  http://100percentfedup.com/wp-content/uploads/...   \n",
       "4                Fed Up  http://100percentfedup.com/wp-content/uploads/...   \n",
       "\n",
       "                  published_date  \n",
       "0  2016-10-26T21:41:00.000+03:00  \n",
       "1  2016-10-29T08:47:11.259+03:00  \n",
       "2  2016-10-31T01:41:49.479+02:00  \n",
       "3  2016-11-01T05:22:00.000+02:00  \n",
       "4  2016-11-01T21:56:00.000+02:00  "
      ]
     },
     "execution_count": 60,
     "metadata": {},
     "output_type": "execute_result"
    }
   ],
   "source": [
    "fake = pd.DataFrame({\"text\": fake.text,\n",
    "                    \"title\": fake.title,\n",
    "                    \"website\": fake.site_url,\n",
    "                    \"authors\": fake.author,\n",
    "                    \"image_url\": fake.main_img_url,\n",
    "                    \"published_date\": fake.published,\n",
    "                    }, columns = [\"text\", \"title\",\"website\",\"authors\",\n",
    "                                 \"image_url\",\"published_date\"])\n",
    "\n",
    "fake.head()"
   ]
  },
  {
   "cell_type": "code",
   "execution_count": 61,
   "metadata": {
    "collapsed": false
   },
   "outputs": [
    {
     "data": {
      "text/html": [
       "<div>\n",
       "<style>\n",
       "    .dataframe thead tr:only-child th {\n",
       "        text-align: right;\n",
       "    }\n",
       "\n",
       "    .dataframe thead th {\n",
       "        text-align: left;\n",
       "    }\n",
       "\n",
       "    .dataframe tbody tr th {\n",
       "        vertical-align: top;\n",
       "    }\n",
       "</style>\n",
       "<table border=\"1\" class=\"dataframe\">\n",
       "  <thead>\n",
       "    <tr style=\"text-align: right;\">\n",
       "      <th></th>\n",
       "      <th>text</th>\n",
       "      <th>title</th>\n",
       "      <th>website</th>\n",
       "      <th>authors</th>\n",
       "      <th>image_url</th>\n",
       "      <th>published_date</th>\n",
       "    </tr>\n",
       "  </thead>\n",
       "  <tbody>\n",
       "    <tr>\n",
       "      <th>0</th>\n",
       "      <td>Challenges for a nut-free diet\\n\\nIf you’re co...</td>\n",
       "      <td>Nut-free recipes and information</td>\n",
       "      <td>http://www.bbc.co.uk</td>\n",
       "      <td>[]</td>\n",
       "      <td>http://static.bbci.co.uk/food/1.37.152/assets/...</td>\n",
       "      <td>NaN</td>\n",
       "    </tr>\n",
       "    <tr>\n",
       "      <th>1</th>\n",
       "      <td>Lamb in Britain is called lamb if it’s markete...</td>\n",
       "      <td>Lamb recipes</td>\n",
       "      <td>http://www.bbc.co.uk</td>\n",
       "      <td>[]</td>\n",
       "      <td>http://static.bbci.co.uk/food/1.37.152/assets/...</td>\n",
       "      <td>NaN</td>\n",
       "    </tr>\n",
       "    <tr>\n",
       "      <th>2</th>\n",
       "      <td>This site is optimised for modern web browsers...</td>\n",
       "      <td>Irish cream and chocolate cheesecake</td>\n",
       "      <td>http://www.bbc.co.uk</td>\n",
       "      <td>[Simon Rimmer, Mary Berry, Rob Burns]</td>\n",
       "      <td>http://ichef.bbci.co.uk/food/ic/food_16x9_448/...</td>\n",
       "      <td>NaN</td>\n",
       "    </tr>\n",
       "    <tr>\n",
       "      <th>3</th>\n",
       "      <td>Preheat the oven to 180C/350F/Gas 4. Grease an...</td>\n",
       "      <td>Easy chocolate cake</td>\n",
       "      <td>http://www.bbc.co.uk</td>\n",
       "      <td>[Rachel Manley, James Martin, The Hairy Bikers...</td>\n",
       "      <td>http://ichef.bbci.co.uk/food/ic/food_16x9_448/...</td>\n",
       "      <td>NaN</td>\n",
       "    </tr>\n",
       "    <tr>\n",
       "      <th>4</th>\n",
       "      <td>Preheat the oven to 180C/350F/Gas 4 and lin 2 ...</td>\n",
       "      <td>Chocolate fairy cakes</td>\n",
       "      <td>http://www.bbc.co.uk</td>\n",
       "      <td>[Mary Berry, Sarah Brown, Harvey Bertram-brown]</td>\n",
       "      <td>http://ichef.bbci.co.uk/food/ic/food_16x9_448/...</td>\n",
       "      <td>NaN</td>\n",
       "    </tr>\n",
       "  </tbody>\n",
       "</table>\n",
       "</div>"
      ],
      "text/plain": [
       "                                                text  \\\n",
       "0  Challenges for a nut-free diet\\n\\nIf you’re co...   \n",
       "1  Lamb in Britain is called lamb if it’s markete...   \n",
       "2  This site is optimised for modern web browsers...   \n",
       "3  Preheat the oven to 180C/350F/Gas 4. Grease an...   \n",
       "4  Preheat the oven to 180C/350F/Gas 4 and lin 2 ...   \n",
       "\n",
       "                                  title               website  \\\n",
       "0      Nut-free recipes and information  http://www.bbc.co.uk   \n",
       "1                          Lamb recipes  http://www.bbc.co.uk   \n",
       "2  Irish cream and chocolate cheesecake  http://www.bbc.co.uk   \n",
       "3                   Easy chocolate cake  http://www.bbc.co.uk   \n",
       "4                 Chocolate fairy cakes  http://www.bbc.co.uk   \n",
       "\n",
       "                                             authors  \\\n",
       "0                                                 []   \n",
       "1                                                 []   \n",
       "2              [Simon Rimmer, Mary Berry, Rob Burns]   \n",
       "3  [Rachel Manley, James Martin, The Hairy Bikers...   \n",
       "4    [Mary Berry, Sarah Brown, Harvey Bertram-brown]   \n",
       "\n",
       "                                           image_url published_date  \n",
       "0  http://static.bbci.co.uk/food/1.37.152/assets/...            NaN  \n",
       "1  http://static.bbci.co.uk/food/1.37.152/assets/...            NaN  \n",
       "2  http://ichef.bbci.co.uk/food/ic/food_16x9_448/...            NaN  \n",
       "3  http://ichef.bbci.co.uk/food/ic/food_16x9_448/...            NaN  \n",
       "4  http://ichef.bbci.co.uk/food/ic/food_16x9_448/...            NaN  "
      ]
     },
     "execution_count": 61,
     "metadata": {},
     "output_type": "execute_result"
    }
   ],
   "source": [
    "real.head()"
   ]
  },
  {
   "cell_type": "code",
   "execution_count": 64,
   "metadata": {
    "collapsed": true
   },
   "outputs": [],
   "source": [
    "import numpy as np\n",
    "\n",
    "#randomly select same number from fake news as there is real\n",
    "np.random.seed(442540)\n",
    "fake_sample = np.random.randint(0,size=real.shape[0],high=fake.shape[0])\n",
    "\n",
    "real = real.append(fake.iloc[fake_sample,:])"
   ]
  },
  {
   "cell_type": "code",
   "execution_count": 65,
   "metadata": {
    "collapsed": false
   },
   "outputs": [
    {
     "data": {
      "text/plain": [
       "2092"
      ]
     },
     "execution_count": 65,
     "metadata": {},
     "output_type": "execute_result"
    }
   ],
   "source": [
    "real.shape[0]"
   ]
  },
  {
   "cell_type": "markdown",
   "metadata": {},
   "source": [
    "# Add Num Typos Feature"
   ]
  },
  {
   "cell_type": "code",
   "execution_count": 66,
   "metadata": {
    "collapsed": true
   },
   "outputs": [],
   "source": [
    "import requests"
   ]
  },
  {
   "cell_type": "code",
   "execution_count": 140,
   "metadata": {
    "collapsed": false
   },
   "outputs": [
    {
     "name": "stdout",
     "output_type": "stream",
     "text": [
      "{'_type': 'SpellCheck', 'flaggedTokens': []}\n"
     ]
    }
   ],
   "source": [
    "########### Python 3.2 #############\n",
    "import requests\n",
    "import json\n",
    "import urllib\n",
    "\n",
    "headers = {\n",
    "    # Request headers\n",
    "    'Content-Type': 'application/x-www-form-urlencoded',\n",
    "    'Ocp-Apim-Subscription-Key': '4d1f19cfa84c47a7851a1dd01e72443f',\n",
    "}\n",
    "\n",
    "params = urllib.parse.urlencode({\n",
    "    # Request parameters\n",
    "    'text': list(real.text)[2050][:500],\n",
    "})\n",
    "\n",
    "try:\n",
    "    r = requests.post('https://api.cognitive.microsoft.com/bing/v5.0/spellcheck?%s' % params, \"{body}\",headers=headers)\n",
    "    data = json.loads(r.text)\n",
    "    print(data)\n",
    "    \n",
    "except Exception as e:\n",
    "    print(\"[Errno {0}] {1}\".format(e.errno, e.strerror))\n",
    "\n",
    "####################################"
   ]
  },
  {
   "cell_type": "code",
   "execution_count": 141,
   "metadata": {
    "collapsed": false
   },
   "outputs": [
    {
     "data": {
      "text/plain": [
       "[]"
      ]
     },
     "execution_count": 141,
     "metadata": {},
     "output_type": "execute_result"
    }
   ],
   "source": [
    "data['flaggedTokens']"
   ]
  },
  {
   "cell_type": "code",
   "execution_count": 145,
   "metadata": {
    "collapsed": true
   },
   "outputs": [],
   "source": [
    "from json import JSONDecodeError\n",
    "\n",
    "typo_counts = []\n",
    "\n",
    "for t in real.text:\n",
    "    \n",
    "    params = urllib.parse.urlencode({\n",
    "    # Request parameters\n",
    "    'text': str(t)[:1000],\n",
    "    })\n",
    "    \n",
    "    r = requests.post('https://api.cognitive.microsoft.com/bing/v5.0/spellcheck?%s' % params, \"{body}\",headers=headers)\n",
    "    \n",
    "    try:\n",
    "        data = json.loads(r.text)\n",
    "        typo_counts.append(len(data['flaggedTokens']))\n",
    "        \n",
    "    except (KeyError, JSONDecodeError):\n",
    "        typo_counts.append(0)"
   ]
  },
  {
   "cell_type": "code",
   "execution_count": 146,
   "metadata": {
    "collapsed": false
   },
   "outputs": [
    {
     "data": {
      "text/plain": [
       "{0, 1, 2, 3, 4, 5, 6, 7, 9}"
      ]
     },
     "execution_count": 146,
     "metadata": {},
     "output_type": "execute_result"
    }
   ],
   "source": [
    "set(typo_counts)"
   ]
  },
  {
   "cell_type": "code",
   "execution_count": 147,
   "metadata": {
    "collapsed": true
   },
   "outputs": [],
   "source": [
    "real['typo_counts'] = typo_counts"
   ]
  },
  {
   "cell_type": "markdown",
   "metadata": {},
   "source": [
    "# Read in Subjectivity Lexicon"
   ]
  },
  {
   "cell_type": "code",
   "execution_count": 149,
   "metadata": {
    "collapsed": true
   },
   "outputs": [],
   "source": [
    "with open('./subjectivity_clues_hltemnlp05/subjclueslen1-HLTEMNLP05.tff') as tff:\n",
    "    lines = tff.readlines()\n",
    "    \n",
    "tff.close()"
   ]
  },
  {
   "cell_type": "code",
   "execution_count": 158,
   "metadata": {
    "collapsed": true
   },
   "outputs": [],
   "source": [
    "import re\n",
    "\n",
    "subj_frame = pd.DataFrame(columns=['type','len','word1','pos1','stemmed1','polarity','priorpolarity'],index=range(len(lines)))\n",
    "\n",
    "i = 0\n",
    "for line in lines:\n",
    "    \n",
    "    row = []\n",
    "    \n",
    "    line = line.strip()\n",
    "    line_items = line.split(sep=' ')\n",
    "    \n",
    "    item_dict = {}\n",
    "    \n",
    "    for item in line_items:\n",
    "        \n",
    "        if '=' in item:\n",
    "            pref_suff = item.split('=')\n",
    "        \n",
    "            item_dict[pref_suff[0]] = pref_suff[1]\n",
    "    \n",
    "        for col in subj_frame.columns:\n",
    "            if col not in list(item_dict.keys()):\n",
    "                item_dict[col] = None\n",
    "    \n",
    "    try:\n",
    "        subj_frame.loc[i] = item_dict\n",
    "        i += 1\n",
    "    except ValueError:\n",
    "        print(line)\n",
    "        break\n",
    "    "
   ]
  },
  {
   "cell_type": "code",
   "execution_count": 160,
   "metadata": {
    "collapsed": false
   },
   "outputs": [
    {
     "data": {
      "text/html": [
       "<div>\n",
       "<style>\n",
       "    .dataframe thead tr:only-child th {\n",
       "        text-align: right;\n",
       "    }\n",
       "\n",
       "    .dataframe thead th {\n",
       "        text-align: left;\n",
       "    }\n",
       "\n",
       "    .dataframe tbody tr th {\n",
       "        vertical-align: top;\n",
       "    }\n",
       "</style>\n",
       "<table border=\"1\" class=\"dataframe\">\n",
       "  <thead>\n",
       "    <tr style=\"text-align: right;\">\n",
       "      <th></th>\n",
       "      <th>type</th>\n",
       "      <th>len</th>\n",
       "      <th>word1</th>\n",
       "      <th>pos1</th>\n",
       "      <th>stemmed1</th>\n",
       "      <th>polarity</th>\n",
       "      <th>priorpolarity</th>\n",
       "    </tr>\n",
       "  </thead>\n",
       "  <tbody>\n",
       "    <tr>\n",
       "      <th>0</th>\n",
       "      <td>weaksubj</td>\n",
       "      <td>1</td>\n",
       "      <td>abandoned</td>\n",
       "      <td>adj</td>\n",
       "      <td>n</td>\n",
       "      <td>None</td>\n",
       "      <td>negative</td>\n",
       "    </tr>\n",
       "    <tr>\n",
       "      <th>1</th>\n",
       "      <td>weaksubj</td>\n",
       "      <td>1</td>\n",
       "      <td>abandonment</td>\n",
       "      <td>noun</td>\n",
       "      <td>n</td>\n",
       "      <td>None</td>\n",
       "      <td>negative</td>\n",
       "    </tr>\n",
       "    <tr>\n",
       "      <th>2</th>\n",
       "      <td>weaksubj</td>\n",
       "      <td>1</td>\n",
       "      <td>abandon</td>\n",
       "      <td>verb</td>\n",
       "      <td>y</td>\n",
       "      <td>None</td>\n",
       "      <td>negative</td>\n",
       "    </tr>\n",
       "    <tr>\n",
       "      <th>3</th>\n",
       "      <td>strongsubj</td>\n",
       "      <td>1</td>\n",
       "      <td>abase</td>\n",
       "      <td>verb</td>\n",
       "      <td>y</td>\n",
       "      <td>None</td>\n",
       "      <td>negative</td>\n",
       "    </tr>\n",
       "    <tr>\n",
       "      <th>4</th>\n",
       "      <td>strongsubj</td>\n",
       "      <td>1</td>\n",
       "      <td>abasement</td>\n",
       "      <td>anypos</td>\n",
       "      <td>y</td>\n",
       "      <td>None</td>\n",
       "      <td>negative</td>\n",
       "    </tr>\n",
       "  </tbody>\n",
       "</table>\n",
       "</div>"
      ],
      "text/plain": [
       "         type len        word1    pos1 stemmed1 polarity priorpolarity\n",
       "0    weaksubj   1    abandoned     adj        n     None      negative\n",
       "1    weaksubj   1  abandonment    noun        n     None      negative\n",
       "2    weaksubj   1      abandon    verb        y     None      negative\n",
       "3  strongsubj   1        abase    verb        y     None      negative\n",
       "4  strongsubj   1    abasement  anypos        y     None      negative"
      ]
     },
     "execution_count": 160,
     "metadata": {},
     "output_type": "execute_result"
    }
   ],
   "source": [
    "subj_frame.head()"
   ]
  },
  {
   "cell_type": "code",
   "execution_count": 180,
   "metadata": {
    "collapsed": false
   },
   "outputs": [
    {
     "data": {
      "text/plain": [
       "{'both', 'negative', 'neutral', 'positive', 'weakneg'}"
      ]
     },
     "execution_count": 180,
     "metadata": {},
     "output_type": "execute_result"
    }
   ],
   "source": [
    "subj_frame.word1 = [word.strip() for word in subj_frame.word1]\n",
    "\n",
    "set(subj_frame.priorpolarity)"
   ]
  },
  {
   "cell_type": "markdown",
   "metadata": {},
   "source": [
    "# Calculate Sentiment and Subjectivity Scores"
   ]
  },
  {
   "cell_type": "code",
   "execution_count": 192,
   "metadata": {
    "collapsed": true
   },
   "outputs": [],
   "source": [
    "#use this lexicon to add subjectivity scores\n",
    "from nltk.tokenize import word_tokenize\n",
    "import math\n",
    "from stop_words import get_stop_words\n",
    "\n",
    "subjectivities = []\n",
    "positives = []\n",
    "negatives = []\n",
    "\n",
    "stop_words = get_stop_words('en')\n",
    "\n",
    "for i in real.index:\n",
    "    \n",
    "    subj_score = 0\n",
    "    neg_score = 0\n",
    "    pos_score = 0\n",
    "    \n",
    "    text = str(real.loc[i].text)\n",
    "    \n",
    "    tokens = word_tokenize(text)\n",
    "    tokens = [token for token in tokens if token not in stop_words]\n",
    "    \n",
    "    intersection = []\n",
    "    for token in tokens:\n",
    "        if token.strip() in list(subj_frame.word1):\n",
    "            intersection.append(token.strip())\n",
    "            #print(token.strip())\n",
    "    \n",
    "    for item in intersection:\n",
    "        \n",
    "        subj_data = subj_frame.loc[subj_frame.word1 == str(item)]\n",
    "        \n",
    "        if 'strongsubj' in subj_data.type:\n",
    "            subj_score += 1\n",
    "            \n",
    "        else:\n",
    "            subj_score += .5\n",
    "            \n",
    "        if len(subj_data.priorpolarity) > 1:\n",
    "            pol_list = list(subj_data.priorpolarity)\n",
    "            pol_list = [s.strip() for s in pol_list]\n",
    "            \n",
    "        else:\n",
    "            pol_list = str(subj_data.priorpolarity).strip()\n",
    "        \n",
    "        if 'both' in pol_list:\n",
    "            \n",
    "            neg_score += .5\n",
    "            pos_score += .5\n",
    "            \n",
    "        elif 'negative' in pol_list:\n",
    "            neg_score += 1\n",
    "            \n",
    "        elif 'positive' in pol_list:\n",
    "            pos_score += 1\n",
    "            \n",
    "        elif 'weakneg' in pol_list:\n",
    "            neg_score += .5\n",
    "            \n",
    "    subj_score = subj_score / (len(tokens) + 1)\n",
    "    pos_score = pos_score / (len(tokens) + 1)\n",
    "    neg_score = neg_score / (len(tokens) + 1)\n",
    "    \n",
    "    subjectivities.append(subj_score)\n",
    "    positives.append(pos_score)\n",
    "    negatives.append(neg_score)\n",
    "    "
   ]
  },
  {
   "cell_type": "code",
   "execution_count": 195,
   "metadata": {
    "collapsed": false
   },
   "outputs": [
    {
     "data": {
      "text/plain": [
       "0.16666666666666666"
      ]
     },
     "execution_count": 195,
     "metadata": {},
     "output_type": "execute_result"
    }
   ],
   "source": [
    "max(subjectivities)"
   ]
  },
  {
   "cell_type": "code",
   "execution_count": 196,
   "metadata": {
    "collapsed": true
   },
   "outputs": [],
   "source": [
    "real['text_subjectivity'] = subjectivities\n",
    "real['text_positivity'] = positives\n",
    "real['text_negativity'] = negatives"
   ]
  },
  {
   "cell_type": "markdown",
   "metadata": {},
   "source": [
    "# Sentiment Intensity Analysis of Titles"
   ]
  },
  {
   "cell_type": "code",
   "execution_count": 197,
   "metadata": {
    "collapsed": true
   },
   "outputs": [],
   "source": [
    "from nltk.sentiment import vader"
   ]
  },
  {
   "cell_type": "code",
   "execution_count": 201,
   "metadata": {
    "collapsed": true
   },
   "outputs": [],
   "source": [
    "vader_data = []\n",
    "\n",
    "analyzer = vader.SentimentIntensityAnalyzer()\n",
    "\n",
    "for title in real.title:\n",
    "    \n",
    "    vader_data.append(analyzer.polarity_scores(str(title)))"
   ]
  },
  {
   "cell_type": "code",
   "execution_count": 203,
   "metadata": {
    "collapsed": false
   },
   "outputs": [
    {
     "data": {
      "text/plain": [
       "0     1.000\n",
       "1     1.000\n",
       "2     1.000\n",
       "3     0.408\n",
       "4     1.000\n",
       "5     1.000\n",
       "6     1.000\n",
       "7     0.328\n",
       "8     1.000\n",
       "9     1.000\n",
       "10    1.000\n",
       "11    1.000\n",
       "12    1.000\n",
       "13    1.000\n",
       "14    1.000\n",
       "15    1.000\n",
       "16    1.000\n",
       "17    0.746\n",
       "18    1.000\n",
       "19    0.504\n",
       "Name: neu, dtype: float64"
      ]
     },
     "execution_count": 203,
     "metadata": {},
     "output_type": "execute_result"
    }
   ],
   "source": [
    "vader_frame = pd.DataFrame(vader_data)\n",
    "vader_frame.neu[:20]"
   ]
  },
  {
   "cell_type": "code",
   "execution_count": 204,
   "metadata": {
    "collapsed": true
   },
   "outputs": [],
   "source": [
    "real['title_neutrality'] = vader_frame.neu"
   ]
  },
  {
   "cell_type": "code",
   "execution_count": 217,
   "metadata": {
    "collapsed": true
   },
   "outputs": [],
   "source": [
    "fake_or_real = ['real']* 1046\n",
    "fake_or_real = fake_or_real + (['fake'] * 1046)\n",
    "real['fake_or_real'] = fake_or_real"
   ]
  },
  {
   "cell_type": "code",
   "execution_count": 227,
   "metadata": {
    "collapsed": true
   },
   "outputs": [],
   "source": [
    "import re\n",
    "\n",
    "real.authors = [re.sub('\\[|\\]','',str(author)) for author in real.authors]"
   ]
  },
  {
   "cell_type": "code",
   "execution_count": 228,
   "metadata": {
    "collapsed": false
   },
   "outputs": [
    {
     "data": {
      "text/html": [
       "<div>\n",
       "<style>\n",
       "    .dataframe thead tr:only-child th {\n",
       "        text-align: right;\n",
       "    }\n",
       "\n",
       "    .dataframe thead th {\n",
       "        text-align: left;\n",
       "    }\n",
       "\n",
       "    .dataframe tbody tr th {\n",
       "        vertical-align: top;\n",
       "    }\n",
       "</style>\n",
       "<table border=\"1\" class=\"dataframe\">\n",
       "  <thead>\n",
       "    <tr style=\"text-align: right;\">\n",
       "      <th></th>\n",
       "      <th>text</th>\n",
       "      <th>title</th>\n",
       "      <th>website</th>\n",
       "      <th>authors</th>\n",
       "      <th>image_url</th>\n",
       "      <th>published_date</th>\n",
       "      <th>typo_counts</th>\n",
       "      <th>text_subjectivity</th>\n",
       "      <th>text_positivity</th>\n",
       "      <th>text_negativity</th>\n",
       "      <th>title_neutrality</th>\n",
       "      <th>fake_or_real</th>\n",
       "    </tr>\n",
       "  </thead>\n",
       "  <tbody>\n",
       "    <tr>\n",
       "      <th>0</th>\n",
       "      <td>Challenges for a nut-free diet\\n\\nIf you’re co...</td>\n",
       "      <td>Nut-free recipes and information</td>\n",
       "      <td>http://www.bbc.co.uk</td>\n",
       "      <td></td>\n",
       "      <td>http://static.bbci.co.uk/food/1.37.152/assets/...</td>\n",
       "      <td>NaN</td>\n",
       "      <td>0</td>\n",
       "      <td>0.059809</td>\n",
       "      <td>0.038278</td>\n",
       "      <td>0.043062</td>\n",
       "      <td>1.000</td>\n",
       "      <td>real</td>\n",
       "    </tr>\n",
       "    <tr>\n",
       "      <th>1</th>\n",
       "      <td>Lamb in Britain is called lamb if it’s markete...</td>\n",
       "      <td>Lamb recipes</td>\n",
       "      <td>http://www.bbc.co.uk</td>\n",
       "      <td></td>\n",
       "      <td>http://static.bbci.co.uk/food/1.37.152/assets/...</td>\n",
       "      <td>NaN</td>\n",
       "      <td>0</td>\n",
       "      <td>0.050186</td>\n",
       "      <td>0.059480</td>\n",
       "      <td>0.029740</td>\n",
       "      <td>1.000</td>\n",
       "      <td>real</td>\n",
       "    </tr>\n",
       "    <tr>\n",
       "      <th>2</th>\n",
       "      <td>This site is optimised for modern web browsers...</td>\n",
       "      <td>Irish cream and chocolate cheesecake</td>\n",
       "      <td>http://www.bbc.co.uk</td>\n",
       "      <td>Simon Rimmer, Mary Berry, Rob Burns</td>\n",
       "      <td>http://ichef.bbci.co.uk/food/ic/food_16x9_448/...</td>\n",
       "      <td>NaN</td>\n",
       "      <td>1</td>\n",
       "      <td>0.115385</td>\n",
       "      <td>0.153846</td>\n",
       "      <td>0.000000</td>\n",
       "      <td>1.000</td>\n",
       "      <td>real</td>\n",
       "    </tr>\n",
       "    <tr>\n",
       "      <th>3</th>\n",
       "      <td>Preheat the oven to 180C/350F/Gas 4. Grease an...</td>\n",
       "      <td>Easy chocolate cake</td>\n",
       "      <td>http://www.bbc.co.uk</td>\n",
       "      <td>Rachel Manley, James Martin, The Hairy Bikers,...</td>\n",
       "      <td>http://ichef.bbci.co.uk/food/ic/food_16x9_448/...</td>\n",
       "      <td>NaN</td>\n",
       "      <td>0</td>\n",
       "      <td>0.075949</td>\n",
       "      <td>0.075949</td>\n",
       "      <td>0.044304</td>\n",
       "      <td>0.408</td>\n",
       "      <td>real</td>\n",
       "    </tr>\n",
       "    <tr>\n",
       "      <th>4</th>\n",
       "      <td>Preheat the oven to 180C/350F/Gas 4 and lin 2 ...</td>\n",
       "      <td>Chocolate fairy cakes</td>\n",
       "      <td>http://www.bbc.co.uk</td>\n",
       "      <td>Mary Berry, Sarah Brown, Harvey Bertram-brown</td>\n",
       "      <td>http://ichef.bbci.co.uk/food/ic/food_16x9_448/...</td>\n",
       "      <td>NaN</td>\n",
       "      <td>0</td>\n",
       "      <td>0.038462</td>\n",
       "      <td>0.067308</td>\n",
       "      <td>0.009615</td>\n",
       "      <td>1.000</td>\n",
       "      <td>real</td>\n",
       "    </tr>\n",
       "  </tbody>\n",
       "</table>\n",
       "</div>"
      ],
      "text/plain": [
       "                                                text  \\\n",
       "0  Challenges for a nut-free diet\\n\\nIf you’re co...   \n",
       "1  Lamb in Britain is called lamb if it’s markete...   \n",
       "2  This site is optimised for modern web browsers...   \n",
       "3  Preheat the oven to 180C/350F/Gas 4. Grease an...   \n",
       "4  Preheat the oven to 180C/350F/Gas 4 and lin 2 ...   \n",
       "\n",
       "                                  title               website  \\\n",
       "0      Nut-free recipes and information  http://www.bbc.co.uk   \n",
       "1                          Lamb recipes  http://www.bbc.co.uk   \n",
       "2  Irish cream and chocolate cheesecake  http://www.bbc.co.uk   \n",
       "3                   Easy chocolate cake  http://www.bbc.co.uk   \n",
       "4                 Chocolate fairy cakes  http://www.bbc.co.uk   \n",
       "\n",
       "                                             authors  \\\n",
       "0                                                      \n",
       "1                                                      \n",
       "2                Simon Rimmer, Mary Berry, Rob Burns   \n",
       "3  Rachel Manley, James Martin, The Hairy Bikers,...   \n",
       "4      Mary Berry, Sarah Brown, Harvey Bertram-brown   \n",
       "\n",
       "                                           image_url published_date  \\\n",
       "0  http://static.bbci.co.uk/food/1.37.152/assets/...            NaN   \n",
       "1  http://static.bbci.co.uk/food/1.37.152/assets/...            NaN   \n",
       "2  http://ichef.bbci.co.uk/food/ic/food_16x9_448/...            NaN   \n",
       "3  http://ichef.bbci.co.uk/food/ic/food_16x9_448/...            NaN   \n",
       "4  http://ichef.bbci.co.uk/food/ic/food_16x9_448/...            NaN   \n",
       "\n",
       "   typo_counts  text_subjectivity  text_positivity  text_negativity  \\\n",
       "0            0           0.059809         0.038278         0.043062   \n",
       "1            0           0.050186         0.059480         0.029740   \n",
       "2            1           0.115385         0.153846         0.000000   \n",
       "3            0           0.075949         0.075949         0.044304   \n",
       "4            0           0.038462         0.067308         0.009615   \n",
       "\n",
       "   title_neutrality fake_or_real  \n",
       "0             1.000         real  \n",
       "1             1.000         real  \n",
       "2             1.000         real  \n",
       "3             0.408         real  \n",
       "4             1.000         real  "
      ]
     },
     "execution_count": 228,
     "metadata": {},
     "output_type": "execute_result"
    }
   ],
   "source": [
    "real.head()"
   ]
  },
  {
   "cell_type": "code",
   "execution_count": 229,
   "metadata": {
    "collapsed": true
   },
   "outputs": [],
   "source": [
    "real.to_csv('./training_data.csv')"
   ]
  },
  {
   "cell_type": "code",
   "execution_count": null,
   "metadata": {
    "collapsed": true
   },
   "outputs": [],
   "source": []
  }
 ],
 "metadata": {
  "anaconda-cloud": {},
  "kernelspec": {
   "display_name": "Python [Root]",
   "language": "python",
   "name": "Python [Root]"
  },
  "language_info": {
   "codemirror_mode": {
    "name": "ipython",
    "version": 2
   },
   "file_extension": ".py",
   "mimetype": "text/x-python",
   "name": "python",
   "nbconvert_exporter": "python",
   "pygments_lexer": "ipython2",
   "version": "2.7.12"
  }
 },
 "nbformat": 4,
 "nbformat_minor": 2
}
