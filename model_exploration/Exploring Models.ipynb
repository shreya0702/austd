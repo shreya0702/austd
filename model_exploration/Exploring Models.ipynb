{
 "cells": [
  {
   "cell_type": "markdown",
   "metadata": {},
   "source": [
    "# Preparing the Data"
   ]
  },
  {
   "cell_type": "code",
<<<<<<< HEAD
   "execution_count": 67,
=======
   "execution_count": 1,
>>>>>>> 54b8ab3595ec0a9a732ed0f4d85f3b394cc8f169
   "metadata": {
    "collapsed": true
   },
   "outputs": [],
   "source": [
    "import pandas as pd\n",
    "import numpy as np\n",
    "\n",
    "data = pd.DataFrame.from_csv('../data/training_data.csv')\n",
    "\n",
    "replacements = {\n",
    "   'title_neutrality': {\n",
    "      None: np.mean(data.title_neutrality)\n",
    "}}\n",
    "\n",
    "data=data.replace(replacements)"
   ]
  },
  {
   "cell_type": "code",
<<<<<<< HEAD
   "execution_count": 68,
   "metadata": {
    "collapsed": false
   },
=======
   "execution_count": 2,
   "metadata": {},
>>>>>>> 54b8ab3595ec0a9a732ed0f4d85f3b394cc8f169
   "outputs": [
    {
     "data": {
      "text/html": [
       "<div>\n",
       "<style>\n",
       "    .dataframe thead tr:only-child th {\n",
       "        text-align: right;\n",
       "    }\n",
       "\n",
       "    .dataframe thead th {\n",
       "        text-align: left;\n",
       "    }\n",
       "\n",
       "    .dataframe tbody tr th {\n",
       "        vertical-align: top;\n",
       "    }\n",
       "</style>\n",
       "<table border=\"1\" class=\"dataframe\">\n",
       "  <thead>\n",
       "    <tr style=\"text-align: right;\">\n",
       "      <th></th>\n",
       "      <th>text</th>\n",
       "      <th>title</th>\n",
       "      <th>website</th>\n",
       "      <th>authors</th>\n",
       "      <th>image_url</th>\n",
       "      <th>published_date</th>\n",
       "      <th>typo_counts</th>\n",
       "      <th>text_subjectivity</th>\n",
       "      <th>text_positivity</th>\n",
       "      <th>text_negativity</th>\n",
       "      <th>title_neutrality</th>\n",
       "      <th>fake_or_real</th>\n",
       "    </tr>\n",
       "  </thead>\n",
       "  <tbody>\n",
       "    <tr>\n",
       "      <th>0</th>\n",
       "      <td>Challenges for a nut-free diet\\n\\nIf you’re co...</td>\n",
       "      <td>Nut-free recipes and information</td>\n",
       "      <td>http://www.bbc.co.uk</td>\n",
       "      <td>NaN</td>\n",
       "      <td>http://static.bbci.co.uk/food/1.37.152/assets/...</td>\n",
       "      <td>NaN</td>\n",
       "      <td>0</td>\n",
       "      <td>0.059809</td>\n",
       "      <td>0.038278</td>\n",
       "      <td>0.043062</td>\n",
       "      <td>1.000</td>\n",
       "      <td>real</td>\n",
       "    </tr>\n",
       "    <tr>\n",
       "      <th>1</th>\n",
       "      <td>Lamb in Britain is called lamb if it’s markete...</td>\n",
       "      <td>Lamb recipes</td>\n",
       "      <td>http://www.bbc.co.uk</td>\n",
       "      <td>NaN</td>\n",
       "      <td>http://static.bbci.co.uk/food/1.37.152/assets/...</td>\n",
       "      <td>NaN</td>\n",
       "      <td>0</td>\n",
       "      <td>0.050186</td>\n",
       "      <td>0.059480</td>\n",
       "      <td>0.029740</td>\n",
       "      <td>1.000</td>\n",
       "      <td>real</td>\n",
       "    </tr>\n",
       "    <tr>\n",
       "      <th>2</th>\n",
       "      <td>This site is optimised for modern web browsers...</td>\n",
       "      <td>Irish cream and chocolate cheesecake</td>\n",
       "      <td>http://www.bbc.co.uk</td>\n",
       "      <td>Simon Rimmer, Mary Berry, Rob Burns</td>\n",
       "      <td>http://ichef.bbci.co.uk/food/ic/food_16x9_448/...</td>\n",
       "      <td>NaN</td>\n",
       "      <td>1</td>\n",
       "      <td>0.115385</td>\n",
       "      <td>0.153846</td>\n",
       "      <td>0.000000</td>\n",
       "      <td>1.000</td>\n",
       "      <td>real</td>\n",
       "    </tr>\n",
       "    <tr>\n",
       "      <th>3</th>\n",
       "      <td>Preheat the oven to 180C/350F/Gas 4. Grease an...</td>\n",
       "      <td>Easy chocolate cake</td>\n",
       "      <td>http://www.bbc.co.uk</td>\n",
       "      <td>Rachel Manley, James Martin, The Hairy Bikers,...</td>\n",
       "      <td>http://ichef.bbci.co.uk/food/ic/food_16x9_448/...</td>\n",
       "      <td>NaN</td>\n",
       "      <td>0</td>\n",
       "      <td>0.075949</td>\n",
       "      <td>0.075949</td>\n",
       "      <td>0.044304</td>\n",
       "      <td>0.408</td>\n",
       "      <td>real</td>\n",
       "    </tr>\n",
       "    <tr>\n",
       "      <th>4</th>\n",
       "      <td>Preheat the oven to 180C/350F/Gas 4 and lin 2 ...</td>\n",
       "      <td>Chocolate fairy cakes</td>\n",
       "      <td>http://www.bbc.co.uk</td>\n",
       "      <td>Mary Berry, Sarah Brown, Harvey Bertram-brown</td>\n",
       "      <td>http://ichef.bbci.co.uk/food/ic/food_16x9_448/...</td>\n",
       "      <td>NaN</td>\n",
       "      <td>0</td>\n",
       "      <td>0.038462</td>\n",
       "      <td>0.067308</td>\n",
       "      <td>0.009615</td>\n",
       "      <td>1.000</td>\n",
       "      <td>real</td>\n",
       "    </tr>\n",
       "  </tbody>\n",
       "</table>\n",
       "</div>"
      ],
      "text/plain": [
       "                                                text  \\\n",
       "0  Challenges for a nut-free diet\\n\\nIf you’re co...   \n",
       "1  Lamb in Britain is called lamb if it’s markete...   \n",
       "2  This site is optimised for modern web browsers...   \n",
       "3  Preheat the oven to 180C/350F/Gas 4. Grease an...   \n",
       "4  Preheat the oven to 180C/350F/Gas 4 and lin 2 ...   \n",
       "\n",
       "                                  title               website  \\\n",
       "0      Nut-free recipes and information  http://www.bbc.co.uk   \n",
       "1                          Lamb recipes  http://www.bbc.co.uk   \n",
       "2  Irish cream and chocolate cheesecake  http://www.bbc.co.uk   \n",
       "3                   Easy chocolate cake  http://www.bbc.co.uk   \n",
       "4                 Chocolate fairy cakes  http://www.bbc.co.uk   \n",
       "\n",
       "                                             authors  \\\n",
       "0                                                NaN   \n",
       "1                                                NaN   \n",
       "2                Simon Rimmer, Mary Berry, Rob Burns   \n",
       "3  Rachel Manley, James Martin, The Hairy Bikers,...   \n",
       "4      Mary Berry, Sarah Brown, Harvey Bertram-brown   \n",
       "\n",
       "                                           image_url published_date  \\\n",
       "0  http://static.bbci.co.uk/food/1.37.152/assets/...            NaN   \n",
       "1  http://static.bbci.co.uk/food/1.37.152/assets/...            NaN   \n",
       "2  http://ichef.bbci.co.uk/food/ic/food_16x9_448/...            NaN   \n",
       "3  http://ichef.bbci.co.uk/food/ic/food_16x9_448/...            NaN   \n",
       "4  http://ichef.bbci.co.uk/food/ic/food_16x9_448/...            NaN   \n",
       "\n",
       "   typo_counts  text_subjectivity  text_positivity  text_negativity  \\\n",
       "0            0           0.059809         0.038278         0.043062   \n",
       "1            0           0.050186         0.059480         0.029740   \n",
       "2            1           0.115385         0.153846         0.000000   \n",
       "3            0           0.075949         0.075949         0.044304   \n",
       "4            0           0.038462         0.067308         0.009615   \n",
       "\n",
       "   title_neutrality fake_or_real  \n",
       "0             1.000         real  \n",
       "1             1.000         real  \n",
       "2             1.000         real  \n",
       "3             0.408         real  \n",
       "4             1.000         real  "
      ]
     },
     "execution_count": 2,
     "metadata": {},
     "output_type": "execute_result"
    }
   ],
   "source": [
    "data.head()"
   ]
  },
  {
   "cell_type": "code",
   "execution_count": 3,
   "metadata": {
    "collapsed": true
   },
   "outputs": [],
   "source": [
    "import numpy as np\n",
    "\n",
    "np.random.seed(10101010)"
   ]
  },
  {
   "cell_type": "code",
   "execution_count": 4,
   "metadata": {
    "collapsed": true
   },
   "outputs": [],
   "source": [
    "labels_to_vec = np.where(data.fake_or_real == 'fake', 1, 0)\n",
    "data['label'] = labels_to_vec"
   ]
  },
  {
   "cell_type": "markdown",
   "metadata": {},
   "source": [
    "# Logistic Regression"
   ]
  },
  {
   "cell_type": "code",
<<<<<<< HEAD
   "execution_count": 91,
   "metadata": {
    "collapsed": true
   },
=======
   "execution_count": 10,
   "metadata": {},
>>>>>>> 54b8ab3595ec0a9a732ed0f4d85f3b394cc8f169
   "outputs": [],
   "source": [
    "from sklearn.linear_model import LogisticRegressionCV\n",
    "from sklearn.cross_validation import train_test_split\n",
    "from sklearn import metrics\n",
    "from sklearn.cross_validation import cross_val_score\n",
    "from patsy import dmatrices"
   ]
  },
  {
   "cell_type": "code",
   "execution_count": 11,
   "metadata": {},
   "outputs": [],
   "source": [
    "model = LogisticRegressionCV()"
   ]
  },
  {
   "cell_type": "code",
<<<<<<< HEAD
   "execution_count": 93,
   "metadata": {
    "collapsed": false
   },
=======
   "execution_count": 12,
   "metadata": {},
>>>>>>> 54b8ab3595ec0a9a732ed0f4d85f3b394cc8f169
   "outputs": [
    {
     "name": "stdout",
     "output_type": "stream",
     "text": [
      "Index(['Intercept', 'typo_counts', 'text_subjectivity', 'text_positivity',\n",
      "       'text_negativity', 'title_neutrality'],\n",
      "      dtype='object')\n"
     ]
    },
    {
     "data": {
      "text/plain": [
       "LogisticRegressionCV(Cs=10, class_weight=None, cv=None, dual=False,\n",
       "           fit_intercept=True, intercept_scaling=1.0, max_iter=100,\n",
       "           multi_class='ovr', n_jobs=1, penalty='l2', random_state=None,\n",
       "           refit=True, scoring=None, solver='lbfgs', tol=0.0001, verbose=0)"
      ]
     },
     "execution_count": 12,
     "metadata": {},
     "output_type": "execute_result"
    }
   ],
   "source": [
    "training_rows = np.random.randint(0,high=data.shape[0],size=1500)\n",
    "testing_rows = [row for row in range(data.shape[0]) if row not in training_rows]\n",
    "\n",
    "y, X = dmatrices('label ~ typo_counts + text_subjectivity + text_positivity + text_negativity + title_neutrality',\n",
    "                  data.iloc[list(training_rows)], return_type=\"dataframe\")\n",
    "print(X.columns)\n",
    "y = np.ravel(y)\n",
    "\n",
    "model.fit(X,y)"
   ]
  },
  {
   "cell_type": "code",
<<<<<<< HEAD
   "execution_count": 94,
   "metadata": {
    "collapsed": false
   },
=======
   "execution_count": 13,
   "metadata": {},
>>>>>>> 54b8ab3595ec0a9a732ed0f4d85f3b394cc8f169
   "outputs": [
    {
     "data": {
      "text/plain": [
       "0.60866666666666669"
      ]
     },
     "execution_count": 13,
     "metadata": {},
     "output_type": "execute_result"
    }
   ],
   "source": [
    "model.score(X,y)"
   ]
  },
  {
   "cell_type": "code",
<<<<<<< HEAD
   "execution_count": 95,
   "metadata": {
    "collapsed": false
   },
=======
   "execution_count": 14,
   "metadata": {},
>>>>>>> 54b8ab3595ec0a9a732ed0f4d85f3b394cc8f169
   "outputs": [
    {
     "data": {
      "text/plain": [
       "0.49733333333333335"
      ]
     },
     "execution_count": 14,
     "metadata": {},
     "output_type": "execute_result"
    }
   ],
   "source": [
    "y.mean()"
   ]
  },
  {
   "cell_type": "code",
<<<<<<< HEAD
   "execution_count": 96,
   "metadata": {
    "collapsed": false
   },
=======
   "execution_count": 15,
   "metadata": {},
>>>>>>> 54b8ab3595ec0a9a732ed0f4d85f3b394cc8f169
   "outputs": [
    {
     "data": {
      "text/html": [
       "<div>\n",
       "<style>\n",
       "    .dataframe thead tr:only-child th {\n",
       "        text-align: right;\n",
       "    }\n",
       "\n",
       "    .dataframe thead th {\n",
       "        text-align: left;\n",
       "    }\n",
       "\n",
       "    .dataframe tbody tr th {\n",
       "        vertical-align: top;\n",
       "    }\n",
       "</style>\n",
       "<table border=\"1\" class=\"dataframe\">\n",
       "  <thead>\n",
       "    <tr style=\"text-align: right;\">\n",
       "      <th></th>\n",
       "      <th>0</th>\n",
       "      <th>1</th>\n",
       "    </tr>\n",
       "  </thead>\n",
       "  <tbody>\n",
       "    <tr>\n",
       "      <th>0</th>\n",
       "      <td>Intercept</td>\n",
       "      <td>[-0.0359185849231]</td>\n",
       "    </tr>\n",
       "    <tr>\n",
       "      <th>1</th>\n",
       "      <td>typo_counts</td>\n",
       "      <td>[0.857434213467]</td>\n",
       "    </tr>\n",
       "    <tr>\n",
       "      <th>2</th>\n",
       "      <td>text_subjectivity</td>\n",
       "      <td>[1.75557033891]</td>\n",
       "    </tr>\n",
       "    <tr>\n",
       "      <th>3</th>\n",
       "      <td>text_positivity</td>\n",
       "      <td>[-6.0666857089]</td>\n",
       "    </tr>\n",
       "    <tr>\n",
       "      <th>4</th>\n",
       "      <td>text_negativity</td>\n",
       "      <td>[10.4984992032]</td>\n",
       "    </tr>\n",
       "    <tr>\n",
       "      <th>5</th>\n",
       "      <td>title_neutrality</td>\n",
       "      <td>[-0.12420517124]</td>\n",
       "    </tr>\n",
       "  </tbody>\n",
       "</table>\n",
       "</div>"
      ],
      "text/plain": [
       "                   0                   1\n",
       "0          Intercept  [-0.0359185849231]\n",
       "1        typo_counts    [0.857434213467]\n",
       "2  text_subjectivity     [1.75557033891]\n",
       "3    text_positivity     [-6.0666857089]\n",
       "4    text_negativity     [10.4984992032]\n",
       "5   title_neutrality    [-0.12420517124]"
      ]
     },
     "execution_count": 15,
     "metadata": {},
     "output_type": "execute_result"
    }
   ],
   "source": [
    "# examine the coefficients\n",
    "pd.DataFrame(list(zip(X.columns, np.transpose(model.coef_))))"
   ]
  },
  {
   "cell_type": "code",
<<<<<<< HEAD
   "execution_count": 97,
   "metadata": {
    "collapsed": false
   },
=======
   "execution_count": 21,
   "metadata": {},
>>>>>>> 54b8ab3595ec0a9a732ed0f4d85f3b394cc8f169
   "outputs": [
    {
     "name": "stdout",
     "output_type": "stream",
     "text": [
      "Index(['Intercept', 'typo_counts', 'text_subjectivity', 'text_positivity',\n",
      "       'text_negativity', 'title_neutrality'],\n",
      "      dtype='object')\n"
     ]
    }
   ],
   "source": [
    "y_test, X_test = dmatrices('label ~ typo_counts + text_subjectivity + text_positivity + text_negativity + title_neutrality',\n",
    "                  dict(data.iloc[2]), return_type=\"dataframe\")\n",
    "print(X_test.columns)\n",
    "y_test = np.ravel(y_test)"
   ]
  },
  {
   "cell_type": "code",
<<<<<<< HEAD
   "execution_count": 103,
   "metadata": {
    "collapsed": false
   },
=======
   "execution_count": 22,
   "metadata": {},
>>>>>>> 54b8ab3595ec0a9a732ed0f4d85f3b394cc8f169
   "outputs": [
    {
     "name": "stdout",
     "output_type": "stream",
     "text": [
      "[[ 0.54760139  0.45239861]]\n"
     ]
    }
   ],
   "source": [
    "predicted = model.predict(X_test)\n",
    "probs = model.predict_proba(X_test)\n",
    "print(probs[:10])"
   ]
  },
  {
   "cell_type": "code",
   "execution_count": 100,
   "metadata": {
    "collapsed": false
   },
   "outputs": [
    {
     "name": "stdout",
     "output_type": "stream",
     "text": [
      "0.588178294574\n",
      "0.584655806424\n"
     ]
    }
   ],
   "source": [
    "print(metrics.accuracy_score(y_test, predicted))\n",
    "print(metrics.roc_auc_score(y_test, predicted))"
   ]
  },
  {
   "cell_type": "code",
   "execution_count": 101,
   "metadata": {
    "collapsed": false
   },
   "outputs": [
    {
     "name": "stdout",
     "output_type": "stream",
     "text": [
      "[ 0.59602649  0.54966887  0.61589404  0.52980132  0.61333333  0.59333333\n",
      "  0.58389262  0.59731544  0.55033557  0.55704698]\n",
      "0.578664799917\n"
     ]
    }
   ],
   "source": [
    "# evaluate the model using 10-fold cross-validation\n",
    "scores = cross_val_score(LogisticRegression(), X, y, scoring='accuracy', cv=10)\n",
    "print( scores)\n",
    "print( scores.mean())"
   ]
  },
  {
   "cell_type": "code",
   "execution_count": 32,
   "metadata": {},
   "outputs": [
    {
     "name": "stderr",
     "output_type": "stream",
     "text": [
      "/Users/cynthia.vint/anaconda3/lib/python3.5/site-packages/sklearn/utils/validation.py:395: DeprecationWarning: Passing 1d arrays as data is deprecated in 0.17 and will raise ValueError in 0.19. Reshape your data either using X.reshape(-1, 1) if your data has a single feature or X.reshape(1, -1) if it contains a single sample.\n",
      "  DeprecationWarning)\n"
     ]
    },
    {
     "ename": "ValueError",
     "evalue": "X has 5 features per sample; expecting 6",
     "output_type": "error",
     "traceback": [
      "\u001b[0;31m---------------------------------------------------------------------------\u001b[0m",
      "\u001b[0;31mValueError\u001b[0m                                Traceback (most recent call last)",
      "\u001b[0;32m<ipython-input-32-86e7d0e54a96>\u001b[0m in \u001b[0;36m<module>\u001b[0;34m()\u001b[0m\n\u001b[0;32m----> 1\u001b[0;31m \u001b[0mmodel\u001b[0m\u001b[0;34m.\u001b[0m\u001b[0mpredict\u001b[0m\u001b[0;34m(\u001b[0m\u001b[0mdata\u001b[0m\u001b[0;34m.\u001b[0m\u001b[0miloc\u001b[0m\u001b[0;34m[\u001b[0m\u001b[0;36m2\u001b[0m\u001b[0;34m]\u001b[0m\u001b[0;34m[\u001b[0m\u001b[0;34m[\u001b[0m\u001b[0;34m'typo_counts'\u001b[0m\u001b[0;34m,\u001b[0m\u001b[0;34m'text_subjectivity'\u001b[0m\u001b[0;34m,\u001b[0m \u001b[0;34m'text_positivity'\u001b[0m\u001b[0;34m,\u001b[0m \u001b[0;34m'text_negativity'\u001b[0m\u001b[0;34m,\u001b[0m \u001b[0;34m'title_neutrality'\u001b[0m\u001b[0;34m]\u001b[0m\u001b[0;34m]\u001b[0m\u001b[0;34m)\u001b[0m\u001b[0;34m\u001b[0m\u001b[0m\n\u001b[0m",
      "\u001b[0;32m~/anaconda3/lib/python3.5/site-packages/sklearn/linear_model/base.py\u001b[0m in \u001b[0;36mpredict\u001b[0;34m(self, X)\u001b[0m\n\u001b[1;32m    334\u001b[0m             \u001b[0mPredicted\u001b[0m \u001b[0;32mclass\u001b[0m \u001b[0mlabel\u001b[0m \u001b[0mper\u001b[0m \u001b[0msample\u001b[0m\u001b[0;34m.\u001b[0m\u001b[0;34m\u001b[0m\u001b[0m\n\u001b[1;32m    335\u001b[0m         \"\"\"\n\u001b[0;32m--> 336\u001b[0;31m         \u001b[0mscores\u001b[0m \u001b[0;34m=\u001b[0m \u001b[0mself\u001b[0m\u001b[0;34m.\u001b[0m\u001b[0mdecision_function\u001b[0m\u001b[0;34m(\u001b[0m\u001b[0mX\u001b[0m\u001b[0;34m)\u001b[0m\u001b[0;34m\u001b[0m\u001b[0m\n\u001b[0m\u001b[1;32m    337\u001b[0m         \u001b[0;32mif\u001b[0m \u001b[0mlen\u001b[0m\u001b[0;34m(\u001b[0m\u001b[0mscores\u001b[0m\u001b[0;34m.\u001b[0m\u001b[0mshape\u001b[0m\u001b[0;34m)\u001b[0m \u001b[0;34m==\u001b[0m \u001b[0;36m1\u001b[0m\u001b[0;34m:\u001b[0m\u001b[0;34m\u001b[0m\u001b[0m\n\u001b[1;32m    338\u001b[0m             \u001b[0mindices\u001b[0m \u001b[0;34m=\u001b[0m \u001b[0;34m(\u001b[0m\u001b[0mscores\u001b[0m \u001b[0;34m>\u001b[0m \u001b[0;36m0\u001b[0m\u001b[0;34m)\u001b[0m\u001b[0;34m.\u001b[0m\u001b[0mastype\u001b[0m\u001b[0;34m(\u001b[0m\u001b[0mnp\u001b[0m\u001b[0;34m.\u001b[0m\u001b[0mint\u001b[0m\u001b[0;34m)\u001b[0m\u001b[0;34m\u001b[0m\u001b[0m\n",
      "\u001b[0;32m~/anaconda3/lib/python3.5/site-packages/sklearn/linear_model/base.py\u001b[0m in \u001b[0;36mdecision_function\u001b[0;34m(self, X)\u001b[0m\n\u001b[1;32m    315\u001b[0m         \u001b[0;32mif\u001b[0m \u001b[0mX\u001b[0m\u001b[0;34m.\u001b[0m\u001b[0mshape\u001b[0m\u001b[0;34m[\u001b[0m\u001b[0;36m1\u001b[0m\u001b[0;34m]\u001b[0m \u001b[0;34m!=\u001b[0m \u001b[0mn_features\u001b[0m\u001b[0;34m:\u001b[0m\u001b[0;34m\u001b[0m\u001b[0m\n\u001b[1;32m    316\u001b[0m             raise ValueError(\"X has %d features per sample; expecting %d\"\n\u001b[0;32m--> 317\u001b[0;31m                              % (X.shape[1], n_features))\n\u001b[0m\u001b[1;32m    318\u001b[0m \u001b[0;34m\u001b[0m\u001b[0m\n\u001b[1;32m    319\u001b[0m         scores = safe_sparse_dot(X, self.coef_.T,\n",
      "\u001b[0;31mValueError\u001b[0m: X has 5 features per sample; expecting 6"
     ]
    }
   ],
   "source": [
    "model.predict(data.iloc[2][['typo_counts','text_subjectivity', 'text_positivity', 'text_negativity', 'title_neutrality']])"
   ]
  },
  {
   "cell_type": "code",
   "execution_count": null,
   "metadata": {
    "collapsed": true
   },
   "outputs": [],
   "source": []
  }
 ],
 "metadata": {
  "anaconda-cloud": {},
  "kernelspec": {
   "display_name": "Python [Root]",
   "language": "python",
   "name": "Python [Root]"
  },
  "language_info": {
   "codemirror_mode": {
    "name": "ipython",
    "version": 2
   },
   "file_extension": ".py",
   "mimetype": "text/x-python",
   "name": "python",
   "nbconvert_exporter": "python",
   "pygments_lexer": "ipython2",
   "version": "2.7.12"
  }
 },
 "nbformat": 4,
 "nbformat_minor": 2
}
