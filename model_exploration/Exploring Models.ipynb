{
 "cells": [
  {
   "cell_type": "markdown",
   "metadata": {},
   "source": [
    "# Preparing the Data"
   ]
  },
  {
   "cell_type": "code",

   "execution_count": 1,
   "metadata": {
    "collapsed": true
   },
   "outputs": [],
   "source": [
    "import pandas as pd\n",
    "import numpy as np\n",
    "\n",
    "data = pd.DataFrame.from_csv('../data/training_data.csv')\n",
    "\n",
    "replacements = {\n",
    "   'title_neutrality': {\n",
    "      None: np.mean(data.title_neutrality)\n",
    "}}\n",
    "\n",
    "data=data.replace(replacements)"
   ]
  },
  {
   "cell_type": "code",
   "execution_count": 68,
   "metadata": {
    "collapsed": false
   },
   "outputs": [
    {
     "data": {
      "text/html": [
       "<div>\n",
       "<style>\n",
       "    .dataframe thead tr:only-child th {\n",
       "        text-align: right;\n",
       "    }\n",
       "\n",
       "    .dataframe thead th {\n",
       "        text-align: left;\n",
       "    }\n",
       "\n",
       "    .dataframe tbody tr th {\n",
       "        vertical-align: top;\n",
       "    }\n",
       "</style>\n",
       "<table border=\"1\" class=\"dataframe\">\n",
       "  <thead>\n",
       "    <tr style=\"text-align: right;\">\n",
       "      <th></th>\n",
       "      <th>text</th>\n",
       "      <th>title</th>\n",
       "      <th>website</th>\n",
       "      <th>authors</th>\n",
       "      <th>image_url</th>\n",
       "      <th>published_date</th>\n",
       "      <th>typo_counts</th>\n",
       "      <th>text_subjectivity</th>\n",
       "      <th>text_positivity</th>\n",
       "      <th>text_negativity</th>\n",
       "      <th>title_neutrality</th>\n",
       "      <th>fake_or_real</th>\n",
       "    </tr>\n",
       "  </thead>\n",
       "  <tbody>\n",
       "    <tr>\n",
       "      <th>0</th>\n",
       "      <td>Challenges for a nut-free diet\\n\\nIf you’re co...</td>\n",
       "      <td>Nut-free recipes and information</td>\n",
       "      <td>http://www.bbc.co.uk</td>\n",
       "      <td>NaN</td>\n",
       "      <td>http://static.bbci.co.uk/food/1.37.152/assets/...</td>\n",
       "      <td>NaN</td>\n",
       "      <td>0</td>\n",
       "      <td>0.059809</td>\n",
       "      <td>0.038278</td>\n",
       "      <td>0.043062</td>\n",
       "      <td>1.000</td>\n",
       "      <td>real</td>\n",
       "    </tr>\n",
       "    <tr>\n",
       "      <th>1</th>\n",
       "      <td>Lamb in Britain is called lamb if it’s markete...</td>\n",
       "      <td>Lamb recipes</td>\n",
       "      <td>http://www.bbc.co.uk</td>\n",
       "      <td>NaN</td>\n",
       "      <td>http://static.bbci.co.uk/food/1.37.152/assets/...</td>\n",
       "      <td>NaN</td>\n",
       "      <td>0</td>\n",
       "      <td>0.050186</td>\n",
       "      <td>0.059480</td>\n",
       "      <td>0.029740</td>\n",
       "      <td>1.000</td>\n",
       "      <td>real</td>\n",
       "    </tr>\n",
       "    <tr>\n",
       "      <th>2</th>\n",
       "      <td>This site is optimised for modern web browsers...</td>\n",
       "      <td>Irish cream and chocolate cheesecake</td>\n",
       "      <td>http://www.bbc.co.uk</td>\n",
       "      <td>Simon Rimmer, Mary Berry, Rob Burns</td>\n",
       "      <td>http://ichef.bbci.co.uk/food/ic/food_16x9_448/...</td>\n",
       "      <td>NaN</td>\n",
       "      <td>1</td>\n",
       "      <td>0.115385</td>\n",
       "      <td>0.153846</td>\n",
       "      <td>0.000000</td>\n",
       "      <td>1.000</td>\n",
       "      <td>real</td>\n",
       "    </tr>\n",
       "    <tr>\n",
       "      <th>3</th>\n",
       "      <td>Preheat the oven to 180C/350F/Gas 4. Grease an...</td>\n",
       "      <td>Easy chocolate cake</td>\n",
       "      <td>http://www.bbc.co.uk</td>\n",
       "      <td>Rachel Manley, James Martin, The Hairy Bikers,...</td>\n",
       "      <td>http://ichef.bbci.co.uk/food/ic/food_16x9_448/...</td>\n",
       "      <td>NaN</td>\n",
       "      <td>0</td>\n",
       "      <td>0.075949</td>\n",
       "      <td>0.075949</td>\n",
       "      <td>0.044304</td>\n",
       "      <td>0.408</td>\n",
       "      <td>real</td>\n",
       "    </tr>\n",
       "    <tr>\n",
       "      <th>4</th>\n",
       "      <td>Preheat the oven to 180C/350F/Gas 4 and lin 2 ...</td>\n",
       "      <td>Chocolate fairy cakes</td>\n",
       "      <td>http://www.bbc.co.uk</td>\n",
       "      <td>Mary Berry, Sarah Brown, Harvey Bertram-brown</td>\n",
       "      <td>http://ichef.bbci.co.uk/food/ic/food_16x9_448/...</td>\n",
       "      <td>NaN</td>\n",
       "      <td>0</td>\n",
       "      <td>0.038462</td>\n",
       "      <td>0.067308</td>\n",
       "      <td>0.009615</td>\n",
       "      <td>1.000</td>\n",
       "      <td>real</td>\n",
       "    </tr>\n",
       "  </tbody>\n",
       "</table>\n",
       "</div>"
      ],
      "text/plain": [
       "                                                text  \\\n",
       "0  Challenges for a nut-free diet\\n\\nIf you’re co...   \n",
       "1  Lamb in Britain is called lamb if it’s markete...   \n",
       "2  This site is optimised for modern web browsers...   \n",
       "3  Preheat the oven to 180C/350F/Gas 4. Grease an...   \n",
       "4  Preheat the oven to 180C/350F/Gas 4 and lin 2 ...   \n",
       "\n",
       "                                  title               website  \\\n",
       "0      Nut-free recipes and information  http://www.bbc.co.uk   \n",
       "1                          Lamb recipes  http://www.bbc.co.uk   \n",
       "2  Irish cream and chocolate cheesecake  http://www.bbc.co.uk   \n",
       "3                   Easy chocolate cake  http://www.bbc.co.uk   \n",
       "4                 Chocolate fairy cakes  http://www.bbc.co.uk   \n",
       "\n",
       "                                             authors  \\\n",
       "0                                                NaN   \n",
       "1                                                NaN   \n",
       "2                Simon Rimmer, Mary Berry, Rob Burns   \n",
       "3  Rachel Manley, James Martin, The Hairy Bikers,...   \n",
       "4      Mary Berry, Sarah Brown, Harvey Bertram-brown   \n",
       "\n",
       "                                           image_url published_date  \\\n",
       "0  http://static.bbci.co.uk/food/1.37.152/assets/...            NaN   \n",
       "1  http://static.bbci.co.uk/food/1.37.152/assets/...            NaN   \n",
       "2  http://ichef.bbci.co.uk/food/ic/food_16x9_448/...            NaN   \n",
       "3  http://ichef.bbci.co.uk/food/ic/food_16x9_448/...            NaN   \n",
       "4  http://ichef.bbci.co.uk/food/ic/food_16x9_448/...            NaN   \n",
       "\n",
       "   typo_counts  text_subjectivity  text_positivity  text_negativity  \\\n",
       "0            0           0.059809         0.038278         0.043062   \n",
       "1            0           0.050186         0.059480         0.029740   \n",
       "2            1           0.115385         0.153846         0.000000   \n",
       "3            0           0.075949         0.075949         0.044304   \n",
       "4            0           0.038462         0.067308         0.009615   \n",
       "\n",
       "   title_neutrality fake_or_real  \n",
       "0             1.000         real  \n",
       "1             1.000         real  \n",
       "2             1.000         real  \n",
       "3             0.408         real  \n",
       "4             1.000         real  "
      ]
     },
     "execution_count": 2,
     "metadata": {},
     "output_type": "execute_result"
    }
   ],
   "source": [
    "data.head()"
   ]
  },
  {
   "cell_type": "code",
   "execution_count": 3,
   "metadata": {
    "collapsed": true
   },
   "outputs": [],
   "source": [
    "import numpy as np\n",
    "\n",
    "np.random.seed(10101010)"
   ]
  },
  {
   "cell_type": "code",
   "execution_count": 4,
   "metadata": {
    "collapsed": true
   },
   "outputs": [],
   "source": [
    "labels_to_vec = np.where(data.fake_or_real == 'fake', 1, 0)\n",
    "data['label'] = labels_to_vec"
   ]
  },
  {
   "cell_type": "markdown",
   "metadata": {},
   "source": [
    "# Logistic Regression"
   ]
  },
  {
   "cell_type": "code",
   "execution_count": 5,
   "metadata": {},
   "outputs": [
    {
     "name": "stderr",
     "output_type": "stream",
     "text": [
      "/Users/cynthia.vint/anaconda3/lib/python3.5/site-packages/sklearn/cross_validation.py:44: DeprecationWarning: This module was deprecated in version 0.18 in favor of the model_selection module into which all the refactored classes and functions are moved. Also note that the interface of the new CV iterators are different from that of this module. This module will be removed in 0.20.\n",
      "  \"This module will be removed in 0.20.\", DeprecationWarning)\n"
     ]
    }
   ],
   "source": [
    "from sklearn.linear_model import LogisticRegressionCV\n",
    "from sklearn.cross_validation import train_test_split\n",
    "from sklearn import metrics\n",
    "from sklearn.cross_validation import cross_val_score\n",
    "from patsy import dmatrices"
   ]
  },
  {
   "cell_type": "code",
   "execution_count": 6,
   "metadata": {
    "collapsed": true
   },
   "outputs": [],
   "source": [
    "model = LogisticRegressionCV()"
   ]
  },
  {
   "cell_type": "code",
   "execution_count": 93,
   "metadata": {
    "collapsed": false
   },
   "outputs": [
    {
     "name": "stdout",
     "output_type": "stream",
     "text": [
      "Index(['Intercept', 'typo_counts', 'text_subjectivity', 'text_positivity',\n",
      "       'text_negativity', 'title_neutrality'],\n",
      "      dtype='object')\n"
     ]
    },
    {
     "data": {
      "text/plain": [
       "LogisticRegressionCV(Cs=10, class_weight=None, cv=None, dual=False,\n",
       "           fit_intercept=True, intercept_scaling=1.0, max_iter=100,\n",
       "           multi_class='ovr', n_jobs=1, penalty='l2', random_state=None,\n",
       "           refit=True, scoring=None, solver='lbfgs', tol=0.0001, verbose=0)"
      ]
     },
     "execution_count": 18,
     "metadata": {},
     "output_type": "execute_result"
    }
   ],
   "source": [
    "training_rows = np.random.randint(0,high=data.shape[0],size=2500)\n",
    "testing_rows = [row for row in range(data.shape[0]) if row not in training_rows]\n",
    "\n",
    "y, X = dmatrices('label ~ typo_counts + text_subjectivity + text_positivity + text_negativity + title_neutrality',\n",
    "                  data.iloc[list(training_rows)], return_type=\"dataframe\")\n",
    "print(X.columns)\n",
    "y = np.ravel(y)\n",
    "\n",
    "model.fit(X,y)"
   ]
  },
  {
   "cell_type": "code",
   "execution_count": 94,
   "metadata": {
    "collapsed": false
   },
   "outputs": [
    {
     "data": {
      "text/plain": [
       "0.61639999999999995"
      ]
     },
     "execution_count": 19,
     "metadata": {},
     "output_type": "execute_result"
    }
   ],
   "source": [
    "model.score(X,y)"
   ]
  },
  {
   "cell_type": "code",
   "execution_count": 95,
   "metadata": {
    "collapsed": false
   },
   "outputs": [
    {
     "data": {
      "text/plain": [
       "0.50439999999999996"
      ]
     },
     "execution_count": 20,
     "metadata": {},
     "output_type": "execute_result"
    }
   ],
   "source": [
    "y.mean()"
   ]
  },
  {
   "cell_type": "code",
   "execution_count": 96,
   "metadata": {
    "collapsed": false
   },
   "outputs": [
    {
     "data": {
      "text/html": [
       "<div>\n",
       "<style>\n",
       "    .dataframe thead tr:only-child th {\n",
       "        text-align: right;\n",
       "    }\n",
       "\n",
       "    .dataframe thead th {\n",
       "        text-align: left;\n",
       "    }\n",
       "\n",
       "    .dataframe tbody tr th {\n",
       "        vertical-align: top;\n",
       "    }\n",
       "</style>\n",
       "<table border=\"1\" class=\"dataframe\">\n",
       "  <thead>\n",
       "    <tr style=\"text-align: right;\">\n",
       "      <th></th>\n",
       "      <th>0</th>\n",
       "      <th>1</th>\n",
       "    </tr>\n",
       "  </thead>\n",
       "  <tbody>\n",
       "    <tr>\n",
       "      <th>0</th>\n",
       "      <td>Intercept</td>\n",
       "      <td>[-0.0562611229385]</td>\n",
       "    </tr>\n",
       "    <tr>\n",
       "      <th>1</th>\n",
       "      <td>typo_counts</td>\n",
       "      <td>[0.947530474993]</td>\n",
       "    </tr>\n",
       "    <tr>\n",
       "      <th>2</th>\n",
       "      <td>text_subjectivity</td>\n",
       "      <td>[-0.548011406455]</td>\n",
       "    </tr>\n",
       "    <tr>\n",
       "      <th>3</th>\n",
       "      <td>text_positivity</td>\n",
       "      <td>[-6.54967269649]</td>\n",
       "    </tr>\n",
       "    <tr>\n",
       "      <th>4</th>\n",
       "      <td>text_negativity</td>\n",
       "      <td>[13.7991609012]</td>\n",
       "    </tr>\n",
       "    <tr>\n",
       "      <th>5</th>\n",
       "      <td>title_neutrality</td>\n",
       "      <td>[0.101244847278]</td>\n",
       "    </tr>\n",
       "  </tbody>\n",
       "</table>\n",
       "</div>"
      ],
      "text/plain": [
       "                   0                   1\n",
       "0          Intercept  [-0.0562611229385]\n",
       "1        typo_counts    [0.947530474993]\n",
       "2  text_subjectivity   [-0.548011406455]\n",
       "3    text_positivity    [-6.54967269649]\n",
       "4    text_negativity     [13.7991609012]\n",
       "5   title_neutrality    [0.101244847278]"
      ]
     },
     "execution_count": 21,
     "metadata": {},
     "output_type": "execute_result"
    }
   ],
   "source": [
    "# examine the coefficients\n",
    "pd.DataFrame(list(zip(X.columns, np.transpose(model.coef_))))"
   ]
  },
  {
   "cell_type": "code",
   "execution_count": 97,
   "metadata": {
    "collapsed": false
   },

   "outputs": [
    {
     "name": "stdout",
     "output_type": "stream",
     "text": [
      "Index(['Intercept', 'typo_counts', 'text_subjectivity', 'text_positivity',\n",
      "       'text_negativity', 'title_neutrality'],\n",
      "      dtype='object')\n"
     ]
    }
   ],
   "source": [
    "y_test, X_test = dmatrices('label ~ typo_counts + text_subjectivity + text_positivity + text_negativity + title_neutrality',\n",
    "                  dict(data.iloc[2]), return_type=\"dataframe\")\n",
    "print(X_test.columns)\n",
    "y_test = np.ravel(y_test)"
   ]
  },
  {
   "cell_type": "code",
   "execution_count": 103,
   "metadata": {
    "collapsed": false
   },
   "outputs": [
    {
     "name": "stdout",
     "output_type": "stream",
     "text": [
      "[[ 0.58751097  0.41248903]]\n"
     ]
    }
   ],
   "source": [
    "predicted = model.predict(X_test)\n",
    "probs = model.predict_proba(X_test)\n",
    "print(probs[:10])"
   ]
  },
  {
   "cell_type": "code",
   "execution_count": 100,
   "metadata": {
    "collapsed": false
   },
   "outputs": [
    {
     "name": "stdout",
     "output_type": "stream",
     "text": [
      "1.0\n"
     ]
    }
   ],
   "source": [
    "print(metrics.accuracy_score(y_test, predicted))\n"
   ]
  },
  {
   "cell_type": "code",
   "execution_count": 101,
   "metadata": {
    "collapsed": false
   },
   "outputs": [
    {
     "name": "stdout",
     "output_type": "stream",
     "text": [
      "[ 0.66135458  0.612       0.636       0.584       0.62        0.564       0.556\n",
      "  0.648       0.624       0.65461847]\n",
      "0.615997305557\n"
     ]
    }
   ],
   "source": [
    "# evaluate the model using 10-fold cross-validation\n",
    "scores = cross_val_score(LogisticRegressionCV(), X, y, scoring='accuracy', cv=10)\n",
    "print( scores)\n",
    "print( scores.mean())"
   ]
  },
  {
   "cell_type": "markdown",
   "metadata": {
    "collapsed": true
   },
   "source": [
    "# Linear SVM"
   ]
  },
  {
   "cell_type": "code",
   "execution_count": 53,
   "metadata": {
    "collapsed": true
   },
   "outputs": [],
   "source": [
    "from sklearn import svm\n",
    "\n",
    "clf = svm.SVC(kernel='linear',C=2000)"
   ]
  },
  {
   "cell_type": "code",
   "execution_count": 54,
   "metadata": {},
   "outputs": [
    {
     "data": {
      "text/plain": [
       "SVC(C=2000, cache_size=200, class_weight=None, coef0=0.0,\n",
       "  decision_function_shape=None, degree=3, gamma='auto', kernel='linear',\n",
       "  max_iter=-1, probability=False, random_state=None, shrinking=True,\n",
       "  tol=0.001, verbose=False)"
      ]
     },
     "execution_count": 54,
     "metadata": {},
     "output_type": "execute_result"
    }
   ],
   "source": [
    "clf.fit(X,y)"
   ]
  },
  {
   "cell_type": "code",
   "execution_count": 55,
   "metadata": {},
   "outputs": [
    {
     "data": {
      "text/plain": [
       "0.6048"
      ]
     },
     "execution_count": 55,
     "metadata": {},
     "output_type": "execute_result"
    }
   ],
   "source": [
    "clf.score(X,y)"
   ]
  },
  {
   "cell_type": "code",
   "execution_count": 57,
   "metadata": {},
   "outputs": [],
   "source": [
    "scores = cross_val_score(svm.SVC(),X, y, scoring='accuracy', cv=10)"
   ]
  },
  {
   "cell_type": "code",
   "execution_count": 58,
   "metadata": {},
   "outputs": [
    {
     "name": "stdout",
     "output_type": "stream",
     "text": [
      "0.562795443127\n"
     ]
    }
   ],
   "source": [
    "print(scores.mean())"
   ]
  },
  {
   "cell_type": "markdown",
   "metadata": {},
   "source": [
    "# RandomForest"
   ]
  },
  {
   "cell_type": "code",
   "execution_count": 59,
   "metadata": {
    "collapsed": true
   },
   "outputs": [],
   "source": [
    "from sklearn.ensemble import RandomForestClassifier\n",
    "\n",
    "clf = RandomForestClassifier()"
   ]
  },
  {
   "cell_type": "code",
   "execution_count": 60,
   "metadata": {},
   "outputs": [
    {
     "data": {
      "text/plain": [
       "RandomForestClassifier(bootstrap=True, class_weight=None, criterion='gini',\n",
       "            max_depth=None, max_features='auto', max_leaf_nodes=None,\n",
       "            min_impurity_split=1e-07, min_samples_leaf=1,\n",
       "            min_samples_split=2, min_weight_fraction_leaf=0.0,\n",
       "            n_estimators=10, n_jobs=1, oob_score=False, random_state=None,\n",
       "            verbose=0, warm_start=False)"
      ]
     },
     "execution_count": 60,
     "metadata": {},
     "output_type": "execute_result"
    }
   ],
   "source": [
    "clf.fit(X,y)"
   ]
  },
  {
   "cell_type": "code",
   "execution_count": 61,
   "metadata": {},
   "outputs": [
    {
     "data": {
      "text/plain": [
       "0.98240000000000005"
      ]
     },
     "execution_count": 61,
     "metadata": {},
     "output_type": "execute_result"
    }
   ],
   "source": [
    "clf.score(X,y)"
   ]
  },
  {
   "cell_type": "code",
   "execution_count": 62,
   "metadata": {
    "collapsed": true
   },
   "outputs": [],
   "source": [
    "scores = cross_val_score(RandomForestClassifier(),X, y, scoring='accuracy', cv=10)"
   ]
  },
  {
   "cell_type": "code",
   "execution_count": 64,
   "metadata": {},
   "outputs": [
    {
     "name": "stdout",
     "output_type": "stream",
     "text": [
      "[ 0.95219124  0.956       0.964       0.94        0.948       0.96        0.968\n",
      "  0.944       0.928       0.95983936]\n"
     ]
    }
   ],
   "source": [
    "print(scores)"
   ]
  },
  {
   "cell_type": "code",
   "execution_count": null,
   "metadata": {
    "collapsed": true
   },
   "outputs": [],
   "source": []
  }
 ],
 "metadata": {
  "anaconda-cloud": {},
  "kernelspec": {
   "display_name": "Python [Root]",
   "language": "python",
   "name": "Python [Root]"
  },
  "language_info": {
   "codemirror_mode": {
    "name": "ipython",
    "version": 2
   },
   "file_extension": ".py",
   "mimetype": "text/x-python",
   "name": "python",
   "nbconvert_exporter": "python",
   "pygments_lexer": "ipython2",
   "version": "2.7.12"
  }
 },
 "nbformat": 4,
 "nbformat_minor": 2
}
